import pandas as pd
import numpy as np
import matplotlib.pyplot as plt
import seaborn as sns
from sklearn.model_selection import train_test_split
from sklearn.linear_model import LinearRegression
from sklearn.ensemble import RandomForestRegressor
from sklearn.metrics import mean_squared_error, r2_score
from sklearn.preprocessing import LabelEncoder

# Load the data
data = pd.read_excel('House_Price_Forecasting_Data (1).xlsx')

# Data Exploration
print("First 5 rows of the dataset:")
print(data.head())

print("\nDataset information:")
print(data.info())

print("\nDescriptive statistics:")
print(data.describe())

# Data Visualization
plt.figure(figsize=(15, 10))

# Numerical features distribution
numerical_features = ['Area (sqft)', 'Bedrooms', 'Bathrooms', 'Age (years)', 
                      'Nearby_School_Rating', 'Distance_to_City_Center (km)', 'Price ($)']
for i, feature in enumerate(numerical_features, 1):
    plt.subplot(3, 3, i)
    sns.histplot(data[feature], kde=True)
    plt.title(f'Distribution of {feature}')
plt.tight_layout()
plt.show()

# Categorical features
plt.figure(figsize=(12, 5))
plt.subplot(1, 2, 1)
sns.countplot(data=data, x='Location')
plt.title('House Count by Location')

plt.subplot(1, 2, 2)
sns.countplot(data=data, x='Garage')
plt.title('House Count by Garage Availability')
plt.tight_layout()
plt.show()

# Correlation matrix
plt.figure(figsize=(10, 8))
corr_matrix = data.corr(numeric_only=True)
sns.heatmap(corr_matrix, annot=True, cmap='coolwarm', center=0)
plt.title('Correlation Matrix')
plt.show()

# Price vs key features
plt.figure(figsize=(15, 10))
features_to_plot = ['Area (sqft)', 'Bedrooms', 'Bathrooms', 'Age (years)', 
                   'Nearby_School_Rating', 'Distance_to_City_Center (km)']
for i, feature in enumerate(features_to_plot, 1):
    plt.subplot(2, 3, i)
    sns.scatterplot(data=data, x=feature, y='Price ($)')
    plt.title(f'Price vs {feature}')
plt.tight_layout()
plt.show()

# Data Preprocessing
# Handle categorical variables
label_encoder = LabelEncoder()
data['Location'] = label_encoder.fit_transform(data['Location'])
data['Garage'] = data['Garage'].map({'Yes': 1, 'No': 0})

# Prepare features and target
X = data.drop(['House_ID', 'Price ($)'], axis=1)
y = data['Price ($)']

# Split data into train and test sets
X_train, X_test, y_train, y_test = train_test_split(X, y, test_size=0.2, random_state=42)

# Model Training
# Linear Regression
lr_model = LinearRegression()
lr_model.fit(X_train, y_train)

# Random Forest
rf_model = RandomForestRegressor(n_estimators=100, random_state=42)
rf_model.fit(X_train, y_train)

# Model Evaluation
def evaluate_model(model, X_test, y_test):
    y_pred = model.predict(X_test)
    mse = mean_squared_error(y_test, y_pred)
    rmse = np.sqrt(mse)
    r2 = r2_score(y_test, y_pred)
    
    print(f"Model: {type(model).__name__}")
    print(f"RMSE: {rmse:.2f}")
    print(f"R-squared: {r2:.2f}")
    print("-" * 40)
    
    return y_pred

print("Model Performance:")
lr_pred = evaluate_model(lr_model, X_test, y_test)
rf_pred = evaluate_model(rf_model, X_test, y_test)

# Feature Importance for Random Forest
plt.figure(figsize=(10, 6))
feature_importances = pd.Series(rf_model.feature_importances_, index=X.columns)
feature_importances.sort_values(ascending=False).plot(kind='bar')
plt.title('Feature Importance - Random Forest')
plt.show()

# Compare actual vs predicted values
plt.figure(figsize=(12, 6))
plt.scatter(y_test, rf_pred, alpha=0.5)
plt.plot([y.min(), y.max()], [y.min(), y.max()], 'k--', lw=2)
plt.xlabel('Actual Price')
plt.ylabel('Predicted Price')
plt.title('Actual vs Predicted Prices (Random Forest)')
plt.show()

# Example prediction
sample_house = pd.DataFrame({
    'Location': ['Suburb'],
    'Area (sqft)': [2500],
    'Bedrooms': [3],
    'Bathrooms': [2],
    'Age (years)': [5],
    'Garage': ['Yes'],
    'Nearby_School_Rating': [7.5],
    'Distance_to_City_Center (km)': [10]
})

# Preprocess the sample
sample_house['Location'] = label_encoder.transform(sample_house['Location'])
sample_house['Garage'] = sample_house['Garage'].map({'Yes': 1, 'No': 0})

predicted_price = rf_model.predict(sample_house)
print(f"\nPredicted price for the sample house: ${predicted_price[0]:,.2f}")
